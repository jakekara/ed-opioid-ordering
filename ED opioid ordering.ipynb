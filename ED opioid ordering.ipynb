{
 "cells": [
  {
   "cell_type": "code",
   "execution_count": 1,
   "metadata": {},
   "outputs": [],
   "source": [
    "import pandas as pd\n",
    "from datetime import datetime"
   ]
  },
  {
   "cell_type": "code",
   "execution_count": 2,
   "metadata": {},
   "outputs": [],
   "source": [
    "from statsmodels.tsa import seasonal\n"
   ]
  },
  {
   "cell_type": "code",
   "execution_count": 3,
   "metadata": {},
   "outputs": [
    {
     "data": {
      "text/plain": [
       "datetime.datetime(2016, 6, 19, 10, 15)"
      ]
     },
     "execution_count": 3,
     "metadata": {},
     "output_type": "execute_result"
    }
   ],
   "source": [
    "def clean_datetime(dtstr):\n",
    "    fmt = \"%m/%d/%y %H:%M\"\n",
    "    \n",
    "    try:\n",
    "        return datetime.strptime(dtstr.strip(),fmt)\n",
    "    except Exception as e:\n",
    "        print e\n",
    "        pass\n",
    "    \n",
    "clean_datetime(\"06/19/16 10:15\")"
   ]
  },
  {
   "cell_type": "code",
   "execution_count": 4,
   "metadata": {},
   "outputs": [
    {
     "data": {
      "text/plain": [
       "datetime.date(2016, 6, 19)"
      ]
     },
     "execution_count": 4,
     "metadata": {},
     "output_type": "execute_result"
    }
   ],
   "source": [
    "def clean_date(dtstr):\n",
    "    \n",
    "    try: \n",
    "        return clean_datetime(dtstr).date()\n",
    "    except:\n",
    "        pass\n",
    "    \n",
    "clean_date(\"06/19/16 10:15\")"
   ]
  },
  {
   "cell_type": "code",
   "execution_count": 5,
   "metadata": {},
   "outputs": [
    {
     "data": {
      "text/html": [
       "<div>\n",
       "<style scoped>\n",
       "    .dataframe tbody tr th:only-of-type {\n",
       "        vertical-align: middle;\n",
       "    }\n",
       "\n",
       "    .dataframe tbody tr th {\n",
       "        vertical-align: top;\n",
       "    }\n",
       "\n",
       "    .dataframe thead th {\n",
       "        text-align: right;\n",
       "    }\n",
       "</style>\n",
       "<table border=\"1\" class=\"dataframe\">\n",
       "  <thead>\n",
       "    <tr style=\"text-align: right;\">\n",
       "      <th></th>\n",
       "      <th>index</th>\n",
       "      <th>O_CATALOG_DISP</th>\n",
       "      <th>MME</th>\n",
       "      <th>ORIG_ORDER_DT_TM</th>\n",
       "      <th>year</th>\n",
       "      <th>datetime</th>\n",
       "      <th>date</th>\n",
       "    </tr>\n",
       "  </thead>\n",
       "  <tbody>\n",
       "    <tr>\n",
       "      <th>0</th>\n",
       "      <td>0</td>\n",
       "      <td>acetaminophen-codeine</td>\n",
       "      <td>18.0</td>\n",
       "      <td>06/19/16 10:15</td>\n",
       "      <td>2016</td>\n",
       "      <td>2016-06-19 10:15:00</td>\n",
       "      <td>2016-06-19</td>\n",
       "    </tr>\n",
       "    <tr>\n",
       "      <th>1</th>\n",
       "      <td>1</td>\n",
       "      <td>acetaminophen-codeine</td>\n",
       "      <td>18.0</td>\n",
       "      <td>02/20/16 20:48</td>\n",
       "      <td>2016</td>\n",
       "      <td>2016-02-20 20:48:00</td>\n",
       "      <td>2016-02-20</td>\n",
       "    </tr>\n",
       "    <tr>\n",
       "      <th>2</th>\n",
       "      <td>2</td>\n",
       "      <td>acetaminophen-codeine</td>\n",
       "      <td>21.5</td>\n",
       "      <td>05/14/16 16:23</td>\n",
       "      <td>2016</td>\n",
       "      <td>2016-05-14 16:23:00</td>\n",
       "      <td>2016-05-14</td>\n",
       "    </tr>\n",
       "    <tr>\n",
       "      <th>3</th>\n",
       "      <td>3</td>\n",
       "      <td>acetaminophen-codeine</td>\n",
       "      <td>21.5</td>\n",
       "      <td>01/01/16 15:56</td>\n",
       "      <td>2016</td>\n",
       "      <td>2016-01-01 15:56:00</td>\n",
       "      <td>2016-01-01</td>\n",
       "    </tr>\n",
       "    <tr>\n",
       "      <th>4</th>\n",
       "      <td>4</td>\n",
       "      <td>acetaminophen-codeine</td>\n",
       "      <td>21.5</td>\n",
       "      <td>06/20/16 22:54</td>\n",
       "      <td>2016</td>\n",
       "      <td>2016-06-20 22:54:00</td>\n",
       "      <td>2016-06-20</td>\n",
       "    </tr>\n",
       "  </tbody>\n",
       "</table>\n",
       "</div>"
      ],
      "text/plain": [
       "   index         O_CATALOG_DISP   MME  ORIG_ORDER_DT_TM  year  \\\n",
       "0      0  acetaminophen-codeine  18.0    06/19/16 10:15  2016   \n",
       "1      1  acetaminophen-codeine  18.0    02/20/16 20:48  2016   \n",
       "2      2  acetaminophen-codeine  21.5    05/14/16 16:23  2016   \n",
       "3      3  acetaminophen-codeine  21.5    01/01/16 15:56  2016   \n",
       "4      4  acetaminophen-codeine  21.5    06/20/16 22:54  2016   \n",
       "\n",
       "             datetime        date  \n",
       "0 2016-06-19 10:15:00  2016-06-19  \n",
       "1 2016-02-20 20:48:00  2016-02-20  \n",
       "2 2016-05-14 16:23:00  2016-05-14  \n",
       "3 2016-01-01 15:56:00  2016-01-01  \n",
       "4 2016-06-20 22:54:00  2016-06-20  "
      ]
     },
     "execution_count": 5,
     "metadata": {},
     "output_type": "execute_result"
    }
   ],
   "source": [
    "def get_data():\n",
    "    frames = []\n",
    "    for y in [\"2016\",\"2017\",\"2018\"]:\n",
    "        df = pd.read_excel(\"data/Middlesex Hospital Opioid Data.xlsx\",\n",
    "                          sheet_name=y).dropna(how=\"any\")\n",
    "        df[\"year\"] = y\n",
    "        frames.append(df.copy())\n",
    "        \n",
    "        \n",
    "    ret = pd.concat(frames).reset_index()\n",
    "    \n",
    "    #ret[\"ORIG_ORDER_DT_TM\"] = ret[\"ORIG_ORDER_DT_TM\"].apply(clean_datetime)\n",
    "    ret[\"datetime\"] = ret[\"ORIG_ORDER_DT_TM\"].apply(clean_datetime)\n",
    "    ret[\"date\"] = ret[\"ORIG_ORDER_DT_TM\"].apply(clean_date)\n",
    "\n",
    "    return ret\n",
    "\n",
    "df = get_data()\n",
    "df.head()"
   ]
  },
  {
   "cell_type": "code",
   "execution_count": 6,
   "metadata": {},
   "outputs": [
    {
     "data": {
      "text/plain": [
       "index                        int64\n",
       "O_CATALOG_DISP              object\n",
       "MME                        float64\n",
       "ORIG_ORDER_DT_TM            object\n",
       "year                        object\n",
       "datetime            datetime64[ns]\n",
       "date                        object\n",
       "dtype: object"
      ]
     },
     "execution_count": 6,
     "metadata": {},
     "output_type": "execute_result"
    }
   ],
   "source": [
    "df.dtypes"
   ]
  },
  {
   "cell_type": "code",
   "execution_count": 7,
   "metadata": {},
   "outputs": [
    {
     "data": {
      "text/html": [
       "<div>\n",
       "<style scoped>\n",
       "    .dataframe tbody tr th:only-of-type {\n",
       "        vertical-align: middle;\n",
       "    }\n",
       "\n",
       "    .dataframe tbody tr th {\n",
       "        vertical-align: top;\n",
       "    }\n",
       "\n",
       "    .dataframe thead th {\n",
       "        text-align: right;\n",
       "    }\n",
       "</style>\n",
       "<table border=\"1\" class=\"dataframe\">\n",
       "  <thead>\n",
       "    <tr style=\"text-align: right;\">\n",
       "      <th></th>\n",
       "      <th>index</th>\n",
       "      <th>O_CATALOG_DISP</th>\n",
       "      <th>MME</th>\n",
       "      <th>ORIG_ORDER_DT_TM</th>\n",
       "      <th>year</th>\n",
       "      <th>datetime</th>\n",
       "      <th>date</th>\n",
       "    </tr>\n",
       "  </thead>\n",
       "  <tbody>\n",
       "    <tr>\n",
       "      <th>2325</th>\n",
       "      <td>2325</td>\n",
       "      <td>acetaminophen-hydrocodone</td>\n",
       "      <td>150.0</td>\n",
       "      <td>01/04/18 07:52</td>\n",
       "      <td>2016</td>\n",
       "      <td>2018-01-04 07:52:00</td>\n",
       "      <td>2018-01-04</td>\n",
       "    </tr>\n",
       "  </tbody>\n",
       "</table>\n",
       "</div>"
      ],
      "text/plain": [
       "      index             O_CATALOG_DISP    MME  ORIG_ORDER_DT_TM  year  \\\n",
       "2325   2325  acetaminophen-hydrocodone  150.0    01/04/18 07:52  2016   \n",
       "\n",
       "                datetime        date  \n",
       "2325 2018-01-04 07:52:00  2018-01-04  "
      ]
     },
     "execution_count": 7,
     "metadata": {},
     "output_type": "execute_result"
    }
   ],
   "source": [
    "df[df[\"year\"]==\"2016\"].sort_values(by=\"date\").tail(1)"
   ]
  },
  {
   "cell_type": "code",
   "execution_count": 8,
   "metadata": {},
   "outputs": [
    {
     "data": {
      "text/html": [
       "<div>\n",
       "<style scoped>\n",
       "    .dataframe tbody tr th:only-of-type {\n",
       "        vertical-align: middle;\n",
       "    }\n",
       "\n",
       "    .dataframe tbody tr th {\n",
       "        vertical-align: top;\n",
       "    }\n",
       "\n",
       "    .dataframe thead th {\n",
       "        text-align: right;\n",
       "    }\n",
       "</style>\n",
       "<table border=\"1\" class=\"dataframe\">\n",
       "  <thead>\n",
       "    <tr style=\"text-align: right;\">\n",
       "      <th></th>\n",
       "      <th>index</th>\n",
       "      <th>O_CATALOG_DISP</th>\n",
       "      <th>MME</th>\n",
       "      <th>ORIG_ORDER_DT_TM</th>\n",
       "      <th>year</th>\n",
       "      <th>datetime</th>\n",
       "      <th>date</th>\n",
       "    </tr>\n",
       "  </thead>\n",
       "  <tbody>\n",
       "  </tbody>\n",
       "</table>\n",
       "</div>"
      ],
      "text/plain": [
       "Empty DataFrame\n",
       "Columns: [index, O_CATALOG_DISP, MME, ORIG_ORDER_DT_TM, year, datetime, date]\n",
       "Index: []"
      ]
     },
     "execution_count": 8,
     "metadata": {},
     "output_type": "execute_result"
    }
   ],
   "source": [
    "df[df[\"datetime\"].apply(lambda x: not isinstance(x, datetime))]"
   ]
  },
  {
   "cell_type": "code",
   "execution_count": 9,
   "metadata": {},
   "outputs": [
    {
     "data": {
      "text/plain": [
       "count                   19490\n",
       "unique                  19273\n",
       "top       2017-05-29 13:25:00\n",
       "freq                        3\n",
       "first     2016-01-01 02:01:00\n",
       "last      2018-05-09 23:46:00\n",
       "Name: datetime, dtype: object"
      ]
     },
     "execution_count": 9,
     "metadata": {},
     "output_type": "execute_result"
    }
   ],
   "source": [
    "pd.to_datetime(df[\"datetime\"]).describe()"
   ]
  },
  {
   "cell_type": "code",
   "execution_count": 12,
   "metadata": {},
   "outputs": [
    {
     "data": {
      "text/html": [
       "<div>\n",
       "<style scoped>\n",
       "    .dataframe tbody tr th:only-of-type {\n",
       "        vertical-align: middle;\n",
       "    }\n",
       "\n",
       "    .dataframe tbody tr th {\n",
       "        vertical-align: top;\n",
       "    }\n",
       "\n",
       "    .dataframe thead th {\n",
       "        text-align: right;\n",
       "    }\n",
       "</style>\n",
       "<table border=\"1\" class=\"dataframe\">\n",
       "  <thead>\n",
       "    <tr style=\"text-align: right;\">\n",
       "      <th></th>\n",
       "      <th>date</th>\n",
       "    </tr>\n",
       "    <tr>\n",
       "      <th>year</th>\n",
       "      <th></th>\n",
       "    </tr>\n",
       "  </thead>\n",
       "  <tbody>\n",
       "    <tr>\n",
       "      <th>2016</th>\n",
       "      <td>9746</td>\n",
       "    </tr>\n",
       "    <tr>\n",
       "      <th>2017</th>\n",
       "      <td>7774</td>\n",
       "    </tr>\n",
       "    <tr>\n",
       "      <th>2018</th>\n",
       "      <td>1970</td>\n",
       "    </tr>\n",
       "  </tbody>\n",
       "</table>\n",
       "</div>"
      ],
      "text/plain": [
       "      date\n",
       "year      \n",
       "2016  9746\n",
       "2017  7774\n",
       "2018  1970"
      ]
     },
     "execution_count": 12,
     "metadata": {},
     "output_type": "execute_result"
    }
   ],
   "source": [
    "import numpy as np\n",
    "df.groupby(\"year\").agg({\"date\":np.size})"
   ]
  },
  {
   "cell_type": "code",
   "execution_count": 25,
   "metadata": {},
   "outputs": [
    {
     "data": {
      "text/plain": [
       "0.7976605786989535"
      ]
     },
     "execution_count": 25,
     "metadata": {},
     "output_type": "execute_result"
    }
   ],
   "source": [
    "7774./9746."
   ]
  },
  {
   "cell_type": "code",
   "execution_count": null,
   "metadata": {},
   "outputs": [],
   "source": []
  },
  {
   "cell_type": "code",
   "execution_count": 26,
   "metadata": {},
   "outputs": [
    {
     "data": {
      "text/plain": [
       "count           9746\n",
       "unique           368\n",
       "top       2016-09-04\n",
       "freq              51\n",
       "Name: date, dtype: object"
      ]
     },
     "execution_count": 26,
     "metadata": {},
     "output_type": "execute_result"
    }
   ],
   "source": [
    "df[df[\"year\"]==\"2016\"][\"date\"].describe()"
   ]
  },
  {
   "cell_type": "code",
   "execution_count": 27,
   "metadata": {},
   "outputs": [
    {
     "data": {
      "text/plain": [
       "count           7774\n",
       "unique           366\n",
       "top       2017-12-23\n",
       "freq              42\n",
       "Name: date, dtype: object"
      ]
     },
     "execution_count": 27,
     "metadata": {},
     "output_type": "execute_result"
    }
   ],
   "source": [
    "df[df[\"year\"]==\"2017\"][\"date\"].describe()"
   ]
  },
  {
   "cell_type": "code",
   "execution_count": 28,
   "metadata": {},
   "outputs": [
    {
     "data": {
      "text/plain": [
       "count           1970\n",
       "unique           129\n",
       "top       2018-03-10\n",
       "freq              35\n",
       "Name: date, dtype: object"
      ]
     },
     "execution_count": 28,
     "metadata": {},
     "output_type": "execute_result"
    }
   ],
   "source": [
    "df[df[\"year\"]==\"2018\"][\"date\"].describe()"
   ]
  },
  {
   "cell_type": "code",
   "execution_count": 29,
   "metadata": {},
   "outputs": [
    {
     "data": {
      "text/plain": [
       "129"
      ]
     },
     "execution_count": 29,
     "metadata": {},
     "output_type": "execute_result"
    }
   ],
   "source": [
    "len(df[df[\"year\"]==\"2018\"][\"date\"].unique())"
   ]
  },
  {
   "cell_type": "code",
   "execution_count": 30,
   "metadata": {},
   "outputs": [],
   "source": [
    "df[\"ymo\"] = df[\"date\"].apply(lambda x: datetime.strftime(x, \"%Y-%m\"))"
   ]
  },
  {
   "cell_type": "code",
   "execution_count": null,
   "metadata": {},
   "outputs": [],
   "source": []
  },
  {
   "cell_type": "code",
   "execution_count": 31,
   "metadata": {},
   "outputs": [
    {
     "data": {
      "text/plain": [
       "<matplotlib.axes._subplots.AxesSubplot at 0x10693ef10>"
      ]
     },
     "execution_count": 31,
     "metadata": {},
     "output_type": "execute_result"
    }
   ],
   "source": [
    "df[df[\"date\"] < datetime(2018,3,1).date()][\"ymo\"].value_counts().sort_index().plot()"
   ]
  },
  {
   "cell_type": "code",
   "execution_count": 32,
   "metadata": {},
   "outputs": [
    {
     "data": {
      "text/plain": [
       "index                        int64\n",
       "O_CATALOG_DISP              object\n",
       "MME                        float64\n",
       "ORIG_ORDER_DT_TM            object\n",
       "year                        object\n",
       "datetime            datetime64[ns]\n",
       "date                        object\n",
       "ymo                         object\n",
       "dtype: object"
      ]
     },
     "execution_count": 32,
     "metadata": {},
     "output_type": "execute_result"
    }
   ],
   "source": [
    "df.dtypes"
   ]
  },
  {
   "cell_type": "code",
   "execution_count": 33,
   "metadata": {},
   "outputs": [
    {
     "data": {
      "text/plain": [
       "<matplotlib.axes._subplots.AxesSubplot at 0x106abb110>"
      ]
     },
     "execution_count": 33,
     "metadata": {},
     "output_type": "execute_result"
    },
    {
     "data": {
      "image/png": "[encoded data removed]",
      "text/plain": [
       "<matplotlib.figure.Figure at 0x106ac4890>"
      ]
     },
     "metadata": {},
     "output_type": "display_data"
    }
   ],
   "source": [
    "%matplotlib inline\n",
    "df[\"MME\"].hist(bins=[0,25,50,75,100,125,150,175])"
   ]
  },
  {
   "cell_type": "code",
   "execution_count": 34,
   "metadata": {},
   "outputs": [
    {
     "data": {
      "text/plain": [
       "count    19490.000000\n",
       "mean        85.306285\n",
       "std         56.086545\n",
       "min          5.000000\n",
       "25%         50.000000\n",
       "50%         75.000000\n",
       "75%        112.500000\n",
       "max       2400.000000\n",
       "Name: MME, dtype: float64"
      ]
     },
     "execution_count": 34,
     "metadata": {},
     "output_type": "execute_result"
    }
   ],
   "source": [
    "df[\"MME\"].describe()"
   ]
  },
  {
   "cell_type": "code",
   "execution_count": 35,
   "metadata": {},
   "outputs": [
    {
     "data": {
      "text/plain": [
       "75.0"
      ]
     },
     "execution_count": 35,
     "metadata": {},
     "output_type": "execute_result"
    }
   ],
   "source": [
    "df[\"MME\"].median()"
   ]
  },
  {
   "cell_type": "code",
   "execution_count": 36,
   "metadata": {},
   "outputs": [
    {
     "data": {
      "text/plain": [
       "0    75.0\n",
       "dtype: float64"
      ]
     },
     "execution_count": 36,
     "metadata": {},
     "output_type": "execute_result"
    }
   ],
   "source": [
    "df[\"MME\"].mode()"
   ]
  },
  {
   "cell_type": "code",
   "execution_count": 37,
   "metadata": {},
   "outputs": [
    {
     "data": {
      "text/plain": [
       "<matplotlib.axes._subplots.AxesSubplot at 0x106c69690>"
      ]
     },
     "execution_count": 37,
     "metadata": {},
     "output_type": "execute_result"
    },
    {
     "data": {
      "image/png": "[encoded data removed]",
      "text/plain": [
       "<matplotlib.figure.Figure at 0x106ce54d0>"
      ]
     },
     "metadata": {},
     "output_type": "display_data"
    }
   ],
   "source": [
    "df[df[\"date\"] < datetime(2018,3,1).date()][\"ymo\"].value_counts().sort_index().plot()"
   ]
  },
  {
   "cell_type": "code",
   "execution_count": 38,
   "metadata": {},
   "outputs": [
    {
     "name": "stderr",
     "output_type": "stream",
     "text": [
      "/Library/Python/2.7/site-packages/numpy-override/numpy/core/fromnumeric.py:2507: VisibleDeprecationWarning: `rank` is deprecated; use the `ndim` attribute or function instead. To find the rank of a matrix see `numpy.linalg.matrix_rank`.\n",
      "  VisibleDeprecationWarning)\n",
      "/Library/Python/2.7/site-packages/numpy-override/numpy/core/fromnumeric.py:2507: VisibleDeprecationWarning: `rank` is deprecated; use the `ndim` attribute or function instead. To find the rank of a matrix see `numpy.linalg.matrix_rank`.\n",
      "  VisibleDeprecationWarning)\n",
      "/Library/Python/2.7/site-packages/numpy-override/numpy/core/fromnumeric.py:2507: VisibleDeprecationWarning: `rank` is deprecated; use the `ndim` attribute or function instead. To find the rank of a matrix see `numpy.linalg.matrix_rank`.\n",
      "  VisibleDeprecationWarning)\n",
      "/Library/Python/2.7/site-packages/numpy-override/numpy/core/fromnumeric.py:2507: VisibleDeprecationWarning: `rank` is deprecated; use the `ndim` attribute or function instead. To find the rank of a matrix see `numpy.linalg.matrix_rank`.\n",
      "  VisibleDeprecationWarning)\n"
     ]
    },
    {
     "data": {
      "text/plain": [
       "<matplotlib.axes._subplots.AxesSubplot at 0x106f21310>"
      ]
     },
     "execution_count": 38,
     "metadata": {},
     "output_type": "execute_result"
    },
    {
     "data": {
      "image/png": "[encoded data removed]",
      "text/plain": [
       "<matplotlib.figure.Figure at 0x106f17f50>"
      ]
     },
     "metadata": {},
     "output_type": "display_data"
    }
   ],
   "source": [
    "seasonal.seasonal_decompose(\n",
    "    df[\"ymo\"][df[\"date\"] < datetime(2018,3,1).date()].value_counts().sort_index(),\n",
    "    model='additive',\n",
    "    freq=12\n",
    ").trend.plot(ylim=(300,1000))"
   ]
  },
  {
   "cell_type": "code",
   "execution_count": 39,
   "metadata": {},
   "outputs": [],
   "source": [
    "import matplotlib.pyplot as plt \n",
    "\n",
    "def trend_plot(df, col=\"ymo\", freq=12, seas=False, mean=True, model='additive', min_p=1):\n",
    "    \n",
    "        \n",
    "    df1 = df[df[\"date\"] < datetime(2018,3,1).date()][col].value_counts().sort_index().to_frame()\n",
    "    df2 =  seasonal.seasonal_decompose(\n",
    "        df[col][df[\"date\"] < datetime(2018,3,1).date()].value_counts().sort_index(),\n",
    "        model=model,\n",
    "        freq=freq).trend.to_frame()\n",
    "    df3 = df[\"ymo\"].value_counts().sort_index().rolling(12,\n",
    "                                                        min_periods=min_p,\n",
    "                                                        center=True).mean()\n",
    "    \n",
    "    ret = df1.copy()\n",
    "    \n",
    "    cols = [\"Orders\",\"Average\"]\n",
    "    if seas:\n",
    "        ret = ret.join(df2, rsuffix=\"_trend\")\n",
    "        cols = [\"Orders\",\"Trend\",\"Average\"]\n",
    "    \n",
    "    if mean:\n",
    "        ret = ret.join(df3, rsuffix=\"_mean\")\n",
    "        \n",
    "    ret.columns = cols\n",
    "        \n",
    "    ax = ret.plot()\n",
    "    \n",
    "    #ret.columns = [\"Orders\",\"Average\"]\n",
    "    \n",
    "    return ret\n",
    "    \n",
    "    "
   ]
  },
  {
   "cell_type": "markdown",
   "metadata": {},
   "source": [
    "### Complete average + trend line\n",
    "\n",
    "This version allows the rolling average line  ymo_mean to extend the full length of the chart, using fewer than 12 months of data for the first 6 (since it is a centered rolling average).\n",
    "\n",
    "Note that the more complicated seasonal adjustment line (ymo_trend) looks pretty similar."
   ]
  },
  {
   "cell_type": "code",
   "execution_count": 40,
   "metadata": {},
   "outputs": [
    {
     "name": "stderr",
     "output_type": "stream",
     "text": [
      "/Library/Python/2.7/site-packages/numpy-override/numpy/core/fromnumeric.py:2507: VisibleDeprecationWarning: `rank` is deprecated; use the `ndim` attribute or function instead. To find the rank of a matrix see `numpy.linalg.matrix_rank`.\n",
      "  VisibleDeprecationWarning)\n",
      "/Library/Python/2.7/site-packages/numpy-override/numpy/core/fromnumeric.py:2507: VisibleDeprecationWarning: `rank` is deprecated; use the `ndim` attribute or function instead. To find the rank of a matrix see `numpy.linalg.matrix_rank`.\n",
      "  VisibleDeprecationWarning)\n",
      "/Library/Python/2.7/site-packages/numpy-override/numpy/core/fromnumeric.py:2507: VisibleDeprecationWarning: `rank` is deprecated; use the `ndim` attribute or function instead. To find the rank of a matrix see `numpy.linalg.matrix_rank`.\n",
      "  VisibleDeprecationWarning)\n",
      "/Library/Python/2.7/site-packages/numpy-override/numpy/core/fromnumeric.py:2507: VisibleDeprecationWarning: `rank` is deprecated; use the `ndim` attribute or function instead. To find the rank of a matrix see `numpy.linalg.matrix_rank`.\n",
      "  VisibleDeprecationWarning)\n"
     ]
    },
    {
     "data": {
      "image/png": "[encoded data removed]",
      "text/plain": [
       "<matplotlib.figure.Figure at 0x106e65bd0>"
      ]
     },
     "metadata": {},
     "output_type": "display_data"
    }
   ],
   "source": [
    "\n",
    "_ = trend_plot(df,seas=True, model=\"additive\")\n"
   ]
  },
  {
   "cell_type": "markdown",
   "metadata": {},
   "source": [
    "### Strict rolling average\n",
    "\n",
    "This version requires 12 months of data to plot the average, so the first six months have no trend line\n"
   ]
  },
  {
   "cell_type": "code",
   "execution_count": 41,
   "metadata": {},
   "outputs": [
    {
     "name": "stderr",
     "output_type": "stream",
     "text": [
      "/Library/Python/2.7/site-packages/numpy-override/numpy/core/fromnumeric.py:2507: VisibleDeprecationWarning: `rank` is deprecated; use the `ndim` attribute or function instead. To find the rank of a matrix see `numpy.linalg.matrix_rank`.\n",
      "  VisibleDeprecationWarning)\n",
      "/Library/Python/2.7/site-packages/numpy-override/numpy/core/fromnumeric.py:2507: VisibleDeprecationWarning: `rank` is deprecated; use the `ndim` attribute or function instead. To find the rank of a matrix see `numpy.linalg.matrix_rank`.\n",
      "  VisibleDeprecationWarning)\n",
      "/Library/Python/2.7/site-packages/numpy-override/numpy/core/fromnumeric.py:2507: VisibleDeprecationWarning: `rank` is deprecated; use the `ndim` attribute or function instead. To find the rank of a matrix see `numpy.linalg.matrix_rank`.\n",
      "  VisibleDeprecationWarning)\n",
      "/Library/Python/2.7/site-packages/numpy-override/numpy/core/fromnumeric.py:2507: VisibleDeprecationWarning: `rank` is deprecated; use the `ndim` attribute or function instead. To find the rank of a matrix see `numpy.linalg.matrix_rank`.\n",
      "  VisibleDeprecationWarning)\n"
     ]
    },
    {
     "data": {
      "image/png": "[encoded data removed]",
      "text/plain": [
       "<matplotlib.figure.Figure at 0x106e4a350>"
      ]
     },
     "metadata": {},
     "output_type": "display_data"
    }
   ],
   "source": [
    "_ = trend_plot(df,seas=False, model=\"additive\", min_p=12)"
   ]
  },
  {
   "cell_type": "markdown",
   "metadata": {},
   "source": [
    "### The winnter: Permissive rolling average\n",
    "\n",
    "This one is the most accessible because a rolling average is a simple concept. The fact that the line is complete is less likely to trip readers up. Even though it allows for less accurate trend values in the first 6 months, we will present this a rough approximation, and it will be presented along with the actual numbers. Overall it tells a true story in the sense that it's better to be approximately right than exactly wrong."
   ]
  },
  {
   "cell_type": "code",
   "execution_count": 42,
   "metadata": {},
   "outputs": [
    {
     "name": "stderr",
     "output_type": "stream",
     "text": [
      "/Library/Python/2.7/site-packages/numpy-override/numpy/core/fromnumeric.py:2507: VisibleDeprecationWarning: `rank` is deprecated; use the `ndim` attribute or function instead. To find the rank of a matrix see `numpy.linalg.matrix_rank`.\n",
      "  VisibleDeprecationWarning)\n",
      "/Library/Python/2.7/site-packages/numpy-override/numpy/core/fromnumeric.py:2507: VisibleDeprecationWarning: `rank` is deprecated; use the `ndim` attribute or function instead. To find the rank of a matrix see `numpy.linalg.matrix_rank`.\n",
      "  VisibleDeprecationWarning)\n",
      "/Library/Python/2.7/site-packages/numpy-override/numpy/core/fromnumeric.py:2507: VisibleDeprecationWarning: `rank` is deprecated; use the `ndim` attribute or function instead. To find the rank of a matrix see `numpy.linalg.matrix_rank`.\n",
      "  VisibleDeprecationWarning)\n",
      "/Library/Python/2.7/site-packages/numpy-override/numpy/core/fromnumeric.py:2507: VisibleDeprecationWarning: `rank` is deprecated; use the `ndim` attribute or function instead. To find the rank of a matrix see `numpy.linalg.matrix_rank`.\n",
      "  VisibleDeprecationWarning)\n"
     ]
    },
    {
     "data": {
      "image/png": "[encoded data removed]",
      "text/plain": [
       "<matplotlib.figure.Figure at 0x1070fce10>"
      ]
     },
     "metadata": {},
     "output_type": "display_data"
    }
   ],
   "source": [
    "\n",
    "_ = trend_plot(df,model=\"multiplicative\")"
   ]
  },
  {
   "cell_type": "code",
   "execution_count": 43,
   "metadata": {},
   "outputs": [
    {
     "name": "stderr",
     "output_type": "stream",
     "text": [
      "/Library/Python/2.7/site-packages/numpy-override/numpy/core/fromnumeric.py:2507: VisibleDeprecationWarning: `rank` is deprecated; use the `ndim` attribute or function instead. To find the rank of a matrix see `numpy.linalg.matrix_rank`.\n",
      "  VisibleDeprecationWarning)\n",
      "/Library/Python/2.7/site-packages/numpy-override/numpy/core/fromnumeric.py:2507: VisibleDeprecationWarning: `rank` is deprecated; use the `ndim` attribute or function instead. To find the rank of a matrix see `numpy.linalg.matrix_rank`.\n",
      "  VisibleDeprecationWarning)\n",
      "/Library/Python/2.7/site-packages/numpy-override/numpy/core/fromnumeric.py:2507: VisibleDeprecationWarning: `rank` is deprecated; use the `ndim` attribute or function instead. To find the rank of a matrix see `numpy.linalg.matrix_rank`.\n",
      "  VisibleDeprecationWarning)\n",
      "/Library/Python/2.7/site-packages/numpy-override/numpy/core/fromnumeric.py:2507: VisibleDeprecationWarning: `rank` is deprecated; use the `ndim` attribute or function instead. To find the rank of a matrix see `numpy.linalg.matrix_rank`.\n",
      "  VisibleDeprecationWarning)\n"
     ]
    },
    {
     "name": "stdout",
     "output_type": "stream",
     "text": [
      "\tOrders\tAverage\n",
      "2016-01\t891\t808\n",
      "2016-02\t802\t816\n",
      "2016-03\t807\t829\n",
      "2016-04\t731\t825\n",
      "2016-05\t797\t824\n",
      "2016-06\t819\t818\n",
      "2016-07\t868\t812\n",
      "2016-08\t918\t794\n",
      "2016-09\t791\t779\n",
      "2016-10\t818\t766\n",
      "2016-11\t754\t765\n",
      "2016-12\t747\t755\n",
      "2017-01\t682\t746\n",
      "2017-02\t615\t739\n",
      "2017-03\t658\t721\n",
      "2017-04\t715\t703\n",
      "2017-05\t676\t686\n",
      "2017-06\t706\t666\n",
      "2017-07\t789\t648\n",
      "2017-08\t703\t631\n",
      "2017-09\t572\t612\n",
      "2017-10\t617\t602\n",
      "2017-11\t516\t579\n",
      "2017-12\t526\t533\n",
      "2018-01\t483\t518\n",
      "2018-02\t386\t491\n",
      "\n"
     ]
    },
    {
     "data": {
      "image/png": "[encoded data removed]",
      "text/plain": [
       "<matplotlib.figure.Figure at 0x1072d30d0>"
      ]
     },
     "metadata": {},
     "output_type": "display_data"
    }
   ],
   "source": [
    "# Output for highchart\n",
    "\n",
    "print trend_plot(df,model=\"multiplicative\").to_csv(sep=\"\\t\",float_format=\"%.0f\")"
   ]
  },
  {
   "cell_type": "markdown",
   "metadata": {},
   "source": [
    "## Norwalk"
   ]
  },
  {
   "cell_type": "code",
   "execution_count": 44,
   "metadata": {},
   "outputs": [
    {
     "data": {
      "text/html": [
       "<div>\n",
       "<style scoped>\n",
       "    .dataframe tbody tr th:only-of-type {\n",
       "        vertical-align: middle;\n",
       "    }\n",
       "\n",
       "    .dataframe tbody tr th {\n",
       "        vertical-align: top;\n",
       "    }\n",
       "\n",
       "    .dataframe thead th {\n",
       "        text-align: right;\n",
       "    }\n",
       "</style>\n",
       "<table border=\"1\" class=\"dataframe\">\n",
       "  <thead>\n",
       "    <tr style=\"text-align: right;\">\n",
       "      <th></th>\n",
       "      <th>DRUG TYPE</th>\n",
       "      <th>ymo</th>\n",
       "      <th>TOTAL</th>\n",
       "      <th>Unnamed: 3</th>\n",
       "    </tr>\n",
       "  </thead>\n",
       "  <tbody>\n",
       "    <tr>\n",
       "      <th>0</th>\n",
       "      <td>Opiates</td>\n",
       "      <td>2016-1</td>\n",
       "      <td>1712</td>\n",
       "      <td>Initiation</td>\n",
       "    </tr>\n",
       "    <tr>\n",
       "      <th>1</th>\n",
       "      <td>Opiates</td>\n",
       "      <td>2016-2</td>\n",
       "      <td>1555</td>\n",
       "      <td>Change Champions</td>\n",
       "    </tr>\n",
       "    <tr>\n",
       "      <th>2</th>\n",
       "      <td>Opiates</td>\n",
       "      <td>2016-3</td>\n",
       "      <td>1706</td>\n",
       "      <td>NaN</td>\n",
       "    </tr>\n",
       "    <tr>\n",
       "      <th>3</th>\n",
       "      <td>Opiates</td>\n",
       "      <td>2016-4</td>\n",
       "      <td>1585</td>\n",
       "      <td>NaN</td>\n",
       "    </tr>\n",
       "    <tr>\n",
       "      <th>4</th>\n",
       "      <td>Opiates</td>\n",
       "      <td>2016-5</td>\n",
       "      <td>1568</td>\n",
       "      <td>NaN</td>\n",
       "    </tr>\n",
       "  </tbody>\n",
       "</table>\n",
       "</div>"
      ],
      "text/plain": [
       "  DRUG TYPE     ymo  TOTAL        Unnamed: 3\n",
       "0   Opiates  2016-1   1712        Initiation\n",
       "1   Opiates  2016-2   1555  Change Champions\n",
       "2   Opiates  2016-3   1706               NaN\n",
       "3   Opiates  2016-4   1585               NaN\n",
       "4   Opiates  2016-5   1568               NaN"
      ]
     },
     "execution_count": 44,
     "metadata": {},
     "output_type": "execute_result"
    }
   ],
   "source": [
    "nw = pd.read_csv(\"data/norwalk.tsv\", sep=\"\\t\")\n",
    "nw[\"TOTAL\"] = pd.to_numeric(nw[\"TOTAL\"].apply(lambda x: x.replace(\",\",\"\")))\n",
    "nw.head()"
   ]
  },
  {
   "cell_type": "code",
   "execution_count": null,
   "metadata": {},
   "outputs": [],
   "source": []
  },
  {
   "cell_type": "code",
   "execution_count": 401,
   "metadata": {},
   "outputs": [],
   "source": [
    "from matplotlib import rcParams\n",
    "rcParams['font.family'] = 'sans-serif'\n",
    "rcParams['font.sans-serif'] = ['Arial']\n",
    "import matplotlib.pyplot as plt\n",
    "def plot_nw(df):\n",
    "    \n",
    "    df1 = df.set_index(\"ymo\")[\"TOTAL\"]\n",
    "    df2 = df1.rolling(12,\n",
    "                      min_periods=1,\n",
    "                      center=True).mean()\n",
    "    \n",
    "    ret = df1.to_frame().join(df2.to_frame(),rsuffix=\"_mean\")\n",
    "    \n",
    "    ret.columns = [\"Orders\",\"Average\"]\n",
    "    \n",
    "    WIDTH=6\n",
    "    HEIGHT=4\n",
    "    ax = ret.plot(      \n",
    "        #ylim=(0,ret[\"TOTAL\"].max() * 1.1)\n",
    "        grid=True,\n",
    "        figsize=(WIDTH,HEIGHT),\n",
    "        legend=False,\n",
    "        label='Inline label'\n",
    "    )\n",
    "    \n",
    "    # Add line labels\n",
    "    nlines = len(ax.lines)\n",
    "    \n",
    "    xmin, xmax = ax.get_xlim()\n",
    "    ymin, ymax = ax.get_ylim()\n",
    "\n",
    "    print xmin, xmax\n",
    "    for l in range(nlines):\n",
    "        # get xy data and scale it to the NxN squares\n",
    "        line = ax.lines[l]\n",
    "        xy = line.get_xydata()\n",
    "        #print xy\n",
    "        pos = xy[-1]\n",
    "        \n",
    "        \n",
    "        x = pos[0]\n",
    "        y = pos[1]\n",
    "    \n",
    "        ax.annotate(\n",
    "            line.get_label(), \n",
    "            xy=(x, y),\n",
    "            xytext=(x + .3,y),\n",
    "            fontsize=14,\n",
    "            family=\"sans-serif\"\n",
    "        )\n",
    "        \n",
    "        scalex = lambda x: x / (xmax)\n",
    "        scaley = lambda y: 1 - y / (ymax)\n",
    "        \n",
    "        ax.spines['right'].set_visible(False)\n",
    "        ax.spines['top'].set_visible(False)\n",
    "        ax.yaxis.set_ticks_position('left')\n",
    "        ax.xaxis.set_ticks_position('bottom')\n",
    "                \n",
    "    #plt.close()\n",
    "\n",
    "    return ret"
   ]
  },
  {
   "cell_type": "code",
   "execution_count": 402,
   "metadata": {},
   "outputs": [
    {
     "name": "stdout",
     "output_type": "stream",
     "text": [
      "0.0 23.0\n"
     ]
    },
    {
     "data": {
      "image/png": "[encoded data removed]",
      "text/plain": [
       "<matplotlib.figure.Figure at 0x10a2a6b90>"
      ]
     },
     "metadata": {},
     "output_type": "display_data"
    }
   ],
   "source": [
    "_ = plot_nw(nw)\n",
    "plt.show()"
   ]
  },
  {
   "cell_type": "code",
   "execution_count": 409,
   "metadata": {},
   "outputs": [
    {
     "name": "stdout",
     "output_type": "stream",
     "text": [
      "0.0 23.0\n",
      "ymo\tOrders\tAverage\n",
      "2016-1\t1712\t1643\n",
      "2016-2\t1555\t1625\n",
      "2016-3\t1706\t1620\n",
      "2016-4\t1585\t1606\n",
      "2016-5\t1568\t1595\n",
      "2016-6\t1732\t1581\n",
      "2016-7\t1520\t1564\n",
      "2016-8\t1583\t1522\n",
      "2016-9\t1495\t1482\n",
      "2016-10\t1493\t1437\n",
      "2016-11\t1440\t1412\n",
      "2016-12\t1374\t1376\n",
      "2017-1\t1213\t1332\n",
      "2017-2\t1075\t1306\n",
      "2017-3\t1162\t1272\n",
      "2017-4\t1283\t1236\n",
      "2017-5\t1145\t1208\n",
      "2017-6\t1203\t1169\n",
      "2017-7\t1205\t1132\n",
      "2017-8\t1181\t1125\n",
      "2017-9\t1060\t1130\n",
      "2017-10\t1161\t1127\n",
      "2017-11\t970\t1107\n",
      "2017-12\t932\t1102\n",
      "\n"
     ]
    },
    {
     "data": {
      "image/png": "[encoded data removed]",
      "text/plain": [
       "<matplotlib.figure.Figure at 0x10a2b74d0>"
      ]
     },
     "metadata": {},
     "output_type": "display_data"
    }
   ],
   "source": [
    "print plot_nw(nw).to_csv(sep=\"\\t\", float_format=\"%.0f\")"
   ]
  },
  {
   "cell_type": "code",
   "execution_count": 48,
   "metadata": {},
   "outputs": [
    {
     "data": {
      "text/plain": [
       "0.2757021798219901"
      ]
     },
     "execution_count": 48,
     "metadata": {},
     "output_type": "execute_result"
    }
   ],
   "source": [
    "1. - (13590. / 18763.)"
   ]
  },
  {
   "cell_type": "code",
   "execution_count": null,
   "metadata": {},
   "outputs": [],
   "source": []
  },
  {
   "cell_type": "code",
   "execution_count": null,
   "metadata": {},
   "outputs": [],
   "source": []
  }
 ],
 "metadata": {
  "kernelspec": {
   "display_name": "Python 2",
   "language": "python",
   "name": "python2"
  },
  "language_info": {
   "codemirror_mode": {
    "name": "ipython",
    "version": 2
   },
   "file_extension": ".py",
   "mimetype": "text/x-python",
   "name": "python",
   "nbconvert_exporter": "python",
   "pygments_lexer": "ipython2",
   "version": "2.7.10"
  }
 },
 "nbformat": 4,
 "nbformat_minor": 2
}
